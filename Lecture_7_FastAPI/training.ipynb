{
 "cells": [
  {
   "cell_type": "code",
   "execution_count": 1,
   "metadata": {
    "collapsed": true,
    "pycharm": {
     "name": "#%%\n"
    }
   },
   "outputs": [],
   "source": [
    "import pandas as pd\n",
    "from models import ChurnLinearModel, ChurnDecisionTree"
   ]
  },
  {
   "cell_type": "code",
   "execution_count": 10,
   "outputs": [
    {
     "data": {
      "text/plain": "      accountlength  areacode  churn  customerservicecalls  \\\n0               128       415  False                     1   \n1               107       415  False                     1   \n2               137       415  False                     0   \n3                84       408  False                     2   \n4                75       415  False                     3   \n...             ...       ...    ...                   ...   \n3328            192       415  False                     2   \n3329             68       415  False                     3   \n3330             28       510  False                     2   \n3331            184       510  False                     2   \n3332             74       415  False                     0   \n\n      numbervmailmessages  totaldaycalls  totaldayminutes  totalevecalls  \\\n0                      25          110.0            265.1           99.0   \n1                      26          123.0            161.6          103.0   \n2                       0          114.0            243.4          110.0   \n3                       0           71.0            299.4           88.0   \n4                       0          113.0            166.7          122.0   \n...                   ...            ...              ...            ...   \n3328                   36           77.0            156.2          126.0   \n3329                    0           57.0            231.1           55.0   \n3330                    0          109.0            180.8           58.0   \n3331                    0          105.0            213.8           84.0   \n3332                   25          113.0            234.4           82.0   \n\n      totaleveminutes  totalintlcalls  totalintlminutes  totalnightcalls  \\\n0               197.4             3.0              10.0             91.0   \n1               195.5             3.0              13.7            103.0   \n2               121.2             5.0              12.2            104.0   \n3                61.9             7.0               6.6             89.0   \n4               148.3             3.0              10.1            121.0   \n...               ...             ...               ...              ...   \n3328            215.5             6.0               9.9             83.0   \n3329            153.4             4.0               9.6            123.0   \n3330            288.8             6.0              14.1             91.0   \n3331            159.6            10.0               5.0            137.0   \n3332            265.9             4.0              13.7             77.0   \n\n      totalnightminutes  \n0                 244.7  \n1                 254.4  \n2                 162.6  \n3                 196.9  \n4                 186.9  \n...                 ...  \n3328              279.1  \n3329              191.3  \n3330              191.9  \n3331              139.2  \n3332              241.4  \n\n[3333 rows x 13 columns]",
      "text/html": "<div>\n<style scoped>\n    .dataframe tbody tr th:only-of-type {\n        vertical-align: middle;\n    }\n\n    .dataframe tbody tr th {\n        vertical-align: top;\n    }\n\n    .dataframe thead th {\n        text-align: right;\n    }\n</style>\n<table border=\"1\" class=\"dataframe\">\n  <thead>\n    <tr style=\"text-align: right;\">\n      <th></th>\n      <th>accountlength</th>\n      <th>areacode</th>\n      <th>churn</th>\n      <th>customerservicecalls</th>\n      <th>numbervmailmessages</th>\n      <th>totaldaycalls</th>\n      <th>totaldayminutes</th>\n      <th>totalevecalls</th>\n      <th>totaleveminutes</th>\n      <th>totalintlcalls</th>\n      <th>totalintlminutes</th>\n      <th>totalnightcalls</th>\n      <th>totalnightminutes</th>\n    </tr>\n  </thead>\n  <tbody>\n    <tr>\n      <th>0</th>\n      <td>128</td>\n      <td>415</td>\n      <td>False</td>\n      <td>1</td>\n      <td>25</td>\n      <td>110.0</td>\n      <td>265.1</td>\n      <td>99.0</td>\n      <td>197.4</td>\n      <td>3.0</td>\n      <td>10.0</td>\n      <td>91.0</td>\n      <td>244.7</td>\n    </tr>\n    <tr>\n      <th>1</th>\n      <td>107</td>\n      <td>415</td>\n      <td>False</td>\n      <td>1</td>\n      <td>26</td>\n      <td>123.0</td>\n      <td>161.6</td>\n      <td>103.0</td>\n      <td>195.5</td>\n      <td>3.0</td>\n      <td>13.7</td>\n      <td>103.0</td>\n      <td>254.4</td>\n    </tr>\n    <tr>\n      <th>2</th>\n      <td>137</td>\n      <td>415</td>\n      <td>False</td>\n      <td>0</td>\n      <td>0</td>\n      <td>114.0</td>\n      <td>243.4</td>\n      <td>110.0</td>\n      <td>121.2</td>\n      <td>5.0</td>\n      <td>12.2</td>\n      <td>104.0</td>\n      <td>162.6</td>\n    </tr>\n    <tr>\n      <th>3</th>\n      <td>84</td>\n      <td>408</td>\n      <td>False</td>\n      <td>2</td>\n      <td>0</td>\n      <td>71.0</td>\n      <td>299.4</td>\n      <td>88.0</td>\n      <td>61.9</td>\n      <td>7.0</td>\n      <td>6.6</td>\n      <td>89.0</td>\n      <td>196.9</td>\n    </tr>\n    <tr>\n      <th>4</th>\n      <td>75</td>\n      <td>415</td>\n      <td>False</td>\n      <td>3</td>\n      <td>0</td>\n      <td>113.0</td>\n      <td>166.7</td>\n      <td>122.0</td>\n      <td>148.3</td>\n      <td>3.0</td>\n      <td>10.1</td>\n      <td>121.0</td>\n      <td>186.9</td>\n    </tr>\n    <tr>\n      <th>...</th>\n      <td>...</td>\n      <td>...</td>\n      <td>...</td>\n      <td>...</td>\n      <td>...</td>\n      <td>...</td>\n      <td>...</td>\n      <td>...</td>\n      <td>...</td>\n      <td>...</td>\n      <td>...</td>\n      <td>...</td>\n      <td>...</td>\n    </tr>\n    <tr>\n      <th>3328</th>\n      <td>192</td>\n      <td>415</td>\n      <td>False</td>\n      <td>2</td>\n      <td>36</td>\n      <td>77.0</td>\n      <td>156.2</td>\n      <td>126.0</td>\n      <td>215.5</td>\n      <td>6.0</td>\n      <td>9.9</td>\n      <td>83.0</td>\n      <td>279.1</td>\n    </tr>\n    <tr>\n      <th>3329</th>\n      <td>68</td>\n      <td>415</td>\n      <td>False</td>\n      <td>3</td>\n      <td>0</td>\n      <td>57.0</td>\n      <td>231.1</td>\n      <td>55.0</td>\n      <td>153.4</td>\n      <td>4.0</td>\n      <td>9.6</td>\n      <td>123.0</td>\n      <td>191.3</td>\n    </tr>\n    <tr>\n      <th>3330</th>\n      <td>28</td>\n      <td>510</td>\n      <td>False</td>\n      <td>2</td>\n      <td>0</td>\n      <td>109.0</td>\n      <td>180.8</td>\n      <td>58.0</td>\n      <td>288.8</td>\n      <td>6.0</td>\n      <td>14.1</td>\n      <td>91.0</td>\n      <td>191.9</td>\n    </tr>\n    <tr>\n      <th>3331</th>\n      <td>184</td>\n      <td>510</td>\n      <td>False</td>\n      <td>2</td>\n      <td>0</td>\n      <td>105.0</td>\n      <td>213.8</td>\n      <td>84.0</td>\n      <td>159.6</td>\n      <td>10.0</td>\n      <td>5.0</td>\n      <td>137.0</td>\n      <td>139.2</td>\n    </tr>\n    <tr>\n      <th>3332</th>\n      <td>74</td>\n      <td>415</td>\n      <td>False</td>\n      <td>0</td>\n      <td>25</td>\n      <td>113.0</td>\n      <td>234.4</td>\n      <td>82.0</td>\n      <td>265.9</td>\n      <td>4.0</td>\n      <td>13.7</td>\n      <td>77.0</td>\n      <td>241.4</td>\n    </tr>\n  </tbody>\n</table>\n<p>3333 rows × 13 columns</p>\n</div>"
     },
     "execution_count": 10,
     "metadata": {},
     "output_type": "execute_result"
    }
   ],
   "source": [
    "data = pd.read_csv('churn_clients.csv')\n",
    "data = data.reindex(sorted(data.columns), axis=1)\n",
    "data"
   ],
   "metadata": {
    "collapsed": false,
    "pycharm": {
     "name": "#%%\n"
    }
   }
  },
  {
   "cell_type": "code",
   "execution_count": 11,
   "outputs": [],
   "source": [
    "data.to_csv('churn_clients.csv', index=False)"
   ],
   "metadata": {
    "collapsed": false,
    "pycharm": {
     "name": "#%%\n"
    }
   }
  },
  {
   "cell_type": "code",
   "execution_count": 3,
   "outputs": [],
   "source": [
    "y = data.churn\n",
    "X = data.drop(['churn'], axis=1)"
   ],
   "metadata": {
    "collapsed": false,
    "pycharm": {
     "name": "#%%\n"
    }
   }
  },
  {
   "cell_type": "code",
   "execution_count": 4,
   "outputs": [
    {
     "data": {
      "text/plain": "Index(['accountlength', 'areacode', 'customerservicecalls',\n       'numbervmailmessages', 'totaldaycalls', 'totaldayminutes',\n       'totalevecalls', 'totaleveminutes', 'totalintlcalls',\n       'totalintlminutes', 'totalnightcalls', 'totalnightminutes'],\n      dtype='object')"
     },
     "execution_count": 4,
     "metadata": {},
     "output_type": "execute_result"
    }
   ],
   "source": [
    "X.columns"
   ],
   "metadata": {
    "collapsed": false,
    "pycharm": {
     "name": "#%%\n"
    }
   }
  },
  {
   "cell_type": "code",
   "execution_count": 5,
   "outputs": [],
   "source": [
    "model = ChurnLinearModel().fit(X, y)\n",
    "model.save('linear_model.pickle')"
   ],
   "metadata": {
    "collapsed": false,
    "pycharm": {
     "name": "#%%\n"
    }
   }
  },
  {
   "cell_type": "code",
   "execution_count": 6,
   "outputs": [],
   "source": [
    "model = ChurnDecisionTree(max_depth=4, criterion='entropy').fit(X, y)\n",
    "model.save('decision_tree.pickle')"
   ],
   "metadata": {
    "collapsed": false,
    "pycharm": {
     "name": "#%%\n"
    }
   }
  },
  {
   "cell_type": "code",
   "execution_count": 15,
   "outputs": [],
   "source": [
    "X.sample(5).to_csv('example_clients.csv', index=False)"
   ],
   "metadata": {
    "collapsed": false,
    "pycharm": {
     "name": "#%%\n"
    }
   }
  },
  {
   "cell_type": "code",
   "execution_count": null,
   "outputs": [],
   "source": [],
   "metadata": {
    "collapsed": false,
    "pycharm": {
     "name": "#%%\n"
    }
   }
  }
 ],
 "metadata": {
  "kernelspec": {
   "display_name": "Python 3",
   "language": "python",
   "name": "python3"
  },
  "language_info": {
   "codemirror_mode": {
    "name": "ipython",
    "version": 2
   },
   "file_extension": ".py",
   "mimetype": "text/x-python",
   "name": "python",
   "nbconvert_exporter": "python",
   "pygments_lexer": "ipython2",
   "version": "2.7.6"
  }
 },
 "nbformat": 4,
 "nbformat_minor": 0
}